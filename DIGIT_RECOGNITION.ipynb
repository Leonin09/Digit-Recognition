{
  "nbformat": 4,
  "nbformat_minor": 0,
  "metadata": {
    "colab": {
      "name": "ML-MAJOR-MAY.ipynb",
      "private_outputs": true,
      "provenance": []
    },
    "kernelspec": {
      "name": "python3",
      "display_name": "Python 3"
    },
    "language_info": {
      "name": "python"
    }
  },
  "cells": [
    {
      "cell_type": "markdown",
      "metadata": {
        "id": "1OruXnG-El6s"
      },
      "source": [
        "Taking data from user"
      ]
    },
    {
      "cell_type": "code",
      "metadata": {
        "id": "i4YzhewR5UGY"
      },
      "source": [
        "import pandas as pd\n",
        "df = pd.read_csv(\"digit_svm.csv\")\n",
        "df"
      ],
      "execution_count": null,
      "outputs": []
    },
    {
      "cell_type": "markdown",
      "metadata": {
        "id": "iqwpVl-5EqYc"
      },
      "source": [
        "Detecting the null values"
      ]
    },
    {
      "cell_type": "code",
      "metadata": {
        "id": "3mAwtpyN5xOU"
      },
      "source": [
        "import numpy as np\n",
        "df.isnull().sum()\n",
        "df.fillna(value=0)\n",
        "df.replace([np.inf, -np.inf], np.nan, inplace=True)\n",
        "df.fillna(999, inplace=True)\n",
        "df"
      ],
      "execution_count": null,
      "outputs": []
    },
    {
      "cell_type": "markdown",
      "metadata": {
        "id": "5dj5LxoPRUuM"
      },
      "source": [
        "Data Visualization"
      ]
    },
    {
      "cell_type": "markdown",
      "metadata": {
        "id": "dR7j2HoRR0tP"
      },
      "source": [
        "digit"
      ]
    },
    {
      "cell_type": "code",
      "metadata": {
        "id": "pWrACogXRUTM"
      },
      "source": [
        "import matplotlib.pyplot as plt\n",
        "pixel = df.iloc[6,1:].values\n",
        "pixel = pixel.reshape((28,28))\n",
        "plt.imshow(pixel,cmap=\"gray\")\n",
        "plt.show()"
      ],
      "execution_count": null,
      "outputs": []
    },
    {
      "cell_type": "markdown",
      "metadata": {
        "id": "rtiHdhZwSzz1"
      },
      "source": [
        "data graph"
      ]
    },
    {
      "cell_type": "code",
      "metadata": {
        "id": "XJkYCL-CSzb4"
      },
      "source": [
        "import seaborn as sns\n",
        "sns.countplot(x=\"label\",data=df)\n",
        "plt.show()"
      ],
      "execution_count": null,
      "outputs": []
    },
    {
      "cell_type": "markdown",
      "metadata": {
        "id": "3aDHqLVpEuQO"
      },
      "source": [
        "Seperating input and output values"
      ]
    },
    {
      "cell_type": "code",
      "metadata": {
        "id": "FTUI4tCv63Al"
      },
      "source": [
        "x = df.iloc[:,1:].values\n",
        "x"
      ],
      "execution_count": null,
      "outputs": []
    },
    {
      "cell_type": "code",
      "metadata": {
        "id": "BQn8RrYP68Xw"
      },
      "source": [
        "y = df.iloc[:,0].values\n",
        "y"
      ],
      "execution_count": null,
      "outputs": []
    },
    {
      "cell_type": "markdown",
      "metadata": {
        "id": "TpNlnzYGE1iY"
      },
      "source": [
        "seperating training and testing data"
      ]
    },
    {
      "cell_type": "code",
      "metadata": {
        "id": "7o_OLBJd7Btx"
      },
      "source": [
        "from sklearn.model_selection import train_test_split\n",
        "train_x,test_x,train_y,test_y = train_test_split(x,y,test_size=0.25,random_state=0)"
      ],
      "execution_count": null,
      "outputs": []
    },
    {
      "cell_type": "code",
      "metadata": {
        "id": "jbzaEA4B7VAd"
      },
      "source": [
        "print(train_x)\n",
        "print(test_x)\n",
        "print(train_y)\n",
        "print(test_y)"
      ],
      "execution_count": null,
      "outputs": []
    },
    {
      "cell_type": "markdown",
      "metadata": {
        "id": "1o0hqVaDE7QE"
      },
      "source": [
        "Scaling the input data"
      ]
    },
    {
      "cell_type": "code",
      "metadata": {
        "id": "v1_e1eA19MYr"
      },
      "source": [
        "from sklearn.preprocessing import MinMaxScaler\n",
        "mms = MinMaxScaler()\n",
        "train_x = mms.fit_transform(train_x)\n",
        "test_x = mms.fit_transform(test_x)"
      ],
      "execution_count": null,
      "outputs": []
    },
    {
      "cell_type": "markdown",
      "metadata": {
        "id": "4-mPMKsHE-O_"
      },
      "source": [
        "Fitting the classifier"
      ]
    },
    {
      "cell_type": "code",
      "metadata": {
        "id": "FMU0FVTq-XOq"
      },
      "source": [
        "from sklearn.svm import SVC\n",
        "clf = SVC(kernel=\"poly\")\n",
        "clf.fit(train_x,train_y)"
      ],
      "execution_count": null,
      "outputs": []
    },
    {
      "cell_type": "markdown",
      "metadata": {
        "id": "AxFTQMHmFCmg"
      },
      "source": [
        "Predicting the output"
      ]
    },
    {
      "cell_type": "code",
      "metadata": {
        "id": "E6SJZNduBJSV"
      },
      "source": [
        "pred_y = clf.predict(test_x)\n",
        "pred_y"
      ],
      "execution_count": null,
      "outputs": []
    },
    {
      "cell_type": "code",
      "metadata": {
        "id": "EM1lpTcKB7ZV"
      },
      "source": [
        "test_y"
      ],
      "execution_count": null,
      "outputs": []
    },
    {
      "cell_type": "markdown",
      "metadata": {
        "id": "4Kx8rVKkFGP5"
      },
      "source": [
        "Confusion matrix"
      ]
    },
    {
      "cell_type": "code",
      "metadata": {
        "id": "g8Z8IvdwB9uW"
      },
      "source": [
        "from sklearn.metrics import confusion_matrix\n",
        "confusion_matrix(pred_y,test_y)"
      ],
      "execution_count": null,
      "outputs": []
    },
    {
      "cell_type": "markdown",
      "metadata": {
        "id": "SGvOL-8LFJcJ"
      },
      "source": [
        "Finding the accuracy"
      ]
    },
    {
      "cell_type": "code",
      "metadata": {
        "id": "Bgi6aEVcCJqI"
      },
      "source": [
        "from sklearn.metrics import accuracy_score\n",
        "accuracy_score(pred_y,test_y)"
      ],
      "execution_count": null,
      "outputs": []
    }
  ]
}